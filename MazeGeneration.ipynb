{
 "cells": [
  {
   "cell_type": "markdown",
   "metadata": {
    "collapsed": true
   },
   "source": [
    "# Introduction to Python and Artificial Intelligence Through Pathfinding Algorithms\n"
   ]
  },
  {
   "cell_type": "markdown",
   "metadata": {
    "collapsed": true
   },
   "source": [
    "**Howell Dalton \"Chip\" McCullough IV**"
   ]
  },
  {
   "cell_type": "markdown",
   "metadata": {},
   "source": [
    "Artificial Intelligence describes an application of Computer Science that seeks to mimic the human brain. Historically, intellegent systems are defined to act in usually one of four categories (Russel & Norving, 2010):\n",
    "\n",
    "  * \"thinking humanly\"\n",
    "  * \"thinking rationally\"\n",
    "  * \"acting humanly\"\n",
    "  * \"acting rationally\"\n",
    "\n",
    "In introducing Artificial Intelligence, we will concern ourselves with pathfinding algorithms -- algorithms in which an intelligent agent seeks to find an ideal outcome from point A to point B. Particularly, we will be developing intellegent agents that will \"act rationally\", as the best path from point A from Point B may not be known, let alone exist. In this project, we will be using Python 3 (which should already be installed on your machine), and the default GUI library Tkinter."
   ]
  },
  {
   "cell_type": "markdown",
   "metadata": {},
   "source": [
    "## Modeling a Maze"
   ]
  },
  {
   "cell_type": "markdown",
   "metadata": {},
   "source": [
    "First things first, we need to construct a model for our intelligent agent to traverse. Because we want real solutions, we need to build a maze under the following parameters:\n",
    "\n",
    "  1. The maze is perfect (i.e. solvable)\n",
    "  2. The maze is randomly generated (so that we cannot hard code a solution)"
   ]
  },
  {
   "cell_type": "markdown",
   "metadata": {},
   "source": [
    "### Graphs, Vertices, and Edges"
   ]
  },
  {
   "cell_type": "markdown",
   "metadata": {},
   "source": [
    "Finally we're about to begin writing code, but before we get into that, we need to go through a bit of a mathematical background. We will be creating our maze by creating a randomly generated spanning tree. \n",
    "\n",
    "So, what's a tree? What does it mean for a tree to be a spanning tree? \n",
    "\n",
    "Followng the chain of jargon, a tree is simply a graph -- a mathematical collection of vertices, $V$, and edges, $E$, defined as $\\mathcal{G} = (V, E)$. Specifically a tree is a graph in which all vertices have exactly one \"parent\" and may have up ton $n$ children. A vertex $v \\in V$ defines a singular point in a graph that may or may not be connected to another vertex by an edge, $e \\in E$.\n",
    "\n",
    "Finally, a spanning tree is a tree constructed from a graph in which all edges are connected with a minimum number of edges, and the graph is acyclic (does not contain any cycles).\n",
    "\n",
    "With that, we will begin by creating a model for a vertex, the Node:\n",
    "\n",
    "```python\n",
    "import binascii\n",
    "import os\n",
    "\n",
    "class Node(object):\n",
    "    \"\"\"\n",
    "    Node data structure\n",
    "    \"\"\"\n",
    "    def __init__(self):\n",
    "        self.__north = None\n",
    "        self.__south = None\n",
    "        self.__east = None\n",
    "        self.__west = None\n",
    "        self.__degree = 0\n",
    "        self.__visited = 0\n",
    "        self.__key = binascii.hexlify(os.urandom(32))\n",
    "\n",
    "    @property\n",
    "    def north(self):\n",
    "        return self.__north\n",
    "\n",
    "    @north.setter\n",
    "    def north(self, north):\n",
    "        self.__north = north\n",
    "\n",
    "    @property\n",
    "    def south(self):\n",
    "        return self.__south\n",
    "\n",
    "    @south.setter\n",
    "    def south(self, south):\n",
    "        self.__south = south\n",
    "\n",
    "    @property\n",
    "    def east(self):\n",
    "        return self.__east\n",
    "\n",
    "    @east.setter\n",
    "    def east(self, east):\n",
    "        self.__east = east\n",
    "\n",
    "    @property\n",
    "    def west(self):\n",
    "        return self.__west\n",
    "\n",
    "    @west.setter\n",
    "    def west(self, west):\n",
    "        self.__west = west\n",
    "\n",
    "    @property\n",
    "    def degree(self) -> int:\n",
    "        return self.__degree\n",
    "\n",
    "    @degree.setter\n",
    "    def degree(self, deg: int):\n",
    "        self.__degree = deg\n",
    "\n",
    "    @property\n",
    "    def visited(self):\n",
    "        return self.__visited\n",
    "\n",
    "    @visited.setter\n",
    "    def visited(self, mark: int):\n",
    "        self.__visited = mark\n",
    "\n",
    "    @property\n",
    "    def key(self):\n",
    "        return self.__key\n",
    "\n",
    "    def isNorthOf(self, node):\n",
    "        return self.__south is node\n",
    "\n",
    "    def isSouthOf(self, node):\n",
    "        return self.__north is node\n",
    "\n",
    "    def isEastOf(self, node):\n",
    "        return self.__west is node\n",
    "\n",
    "    def isWestOf(self, node):\n",
    "        return self.__east is node\n",
    "\n",
    "    def __eq__(self, other) -> bool:\n",
    "        return self.key == other.key\n",
    "\n",
    "    def __str__(self) -> str:\n",
    "        return str(self.__visited)\n",
    "```"
   ]
  },
  {
   "cell_type": "markdown",
   "metadata": {},
   "source": [
    "## Depth First Search"
   ]
  },
  {
   "cell_type": "markdown",
   "metadata": {},
   "source": [
    "## Breadth First Search"
   ]
  },
  {
   "cell_type": "markdown",
   "metadata": {
    "collapsed": true
   },
   "source": [
    "# References"
   ]
  },
  {
   "cell_type": "markdown",
   "metadata": {},
   "source": [
    "Russell, S. J., & Norving, P. (2010). Introduction. In Artificial intelligence: A modern approach (pp. 1-33). New Jersey: Pearson. "
   ]
  }
 ],
 "metadata": {
  "kernelspec": {
   "display_name": "Python 3",
   "language": "python",
   "name": "python3"
  },
  "language_info": {
   "codemirror_mode": {
    "name": "ipython",
    "version": 3.0
   },
   "file_extension": ".py",
   "mimetype": "text/x-python",
   "name": "python",
   "nbconvert_exporter": "python",
   "pygments_lexer": "ipython3",
   "version": "3.5.2"
  }
 },
 "nbformat": 4,
 "nbformat_minor": 0
}